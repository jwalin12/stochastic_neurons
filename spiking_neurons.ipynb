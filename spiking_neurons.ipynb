{
  "nbformat": 4,
  "nbformat_minor": 0,
  "metadata": {
    "colab": {
      "name": "spiking_neurons.ipynb",
      "provenance": [],
      "collapsed_sections": [
        "pPqT1BLe9VwL",
        "1R8eKuPw-CW7"
      ],
      "include_colab_link": true
    },
    "kernelspec": {
      "name": "python3",
      "display_name": "Python 3"
    }
  },
  "cells": [
    {
      "cell_type": "markdown",
      "metadata": {
        "id": "view-in-github",
        "colab_type": "text"
      },
      "source": [
        "<a href=\"https://colab.research.google.com/github/jwalin12/stochastic_neurons/blob/main/spiking_neurons.ipynb\" target=\"_parent\"><img src=\"https://colab.research.google.com/assets/colab-badge.svg\" alt=\"Open In Colab\"/></a>"
      ]
    },
    {
      "cell_type": "code",
      "metadata": {
        "colab": {
          "base_uri": "https://localhost:8080/"
        },
        "id": "KinvzrKY5dQK",
        "outputId": "888504c8-39b9-4d4a-8cb7-a25bb91ed7af"
      },
      "source": [
        "!pip install brian2"
      ],
      "execution_count": null,
      "outputs": [
        {
          "output_type": "stream",
          "text": [
            "Collecting brian2\n",
            "\u001b[?25l  Downloading https://files.pythonhosted.org/packages/9a/c7/565012c479953d041d5e828938515d3c402d0c3f4942180f1c44cb0f472e/Brian2-2.4.2.tar.gz (1.2MB)\n",
            "\u001b[K     |████████████████████████████████| 1.2MB 5.4MB/s \n",
            "\u001b[?25hRequirement already satisfied: numpy>=1.15 in /usr/local/lib/python3.6/dist-packages (from brian2) (1.18.5)\n",
            "Requirement already satisfied: cython>=0.29 in /usr/local/lib/python3.6/dist-packages (from brian2) (0.29.21)\n",
            "Collecting sympy>=1.2\n",
            "\u001b[?25l  Downloading https://files.pythonhosted.org/packages/ff/69/b16fc81b939d3efdd0b552f2e3e54f7fa1423d0c320cced2e69e675dde26/sympy-1.7.1-py3-none-any.whl (5.9MB)\n",
            "\u001b[K     |████████████████████████████████| 5.9MB 16.9MB/s \n",
            "\u001b[?25hRequirement already satisfied: pyparsing in /usr/local/lib/python3.6/dist-packages (from brian2) (2.4.7)\n",
            "Requirement already satisfied: jinja2>=2.7 in /usr/local/lib/python3.6/dist-packages (from brian2) (2.11.2)\n",
            "Requirement already satisfied: setuptools>=24.2 in /usr/local/lib/python3.6/dist-packages (from brian2) (50.3.2)\n",
            "Requirement already satisfied: mpmath>=0.19 in /usr/local/lib/python3.6/dist-packages (from sympy>=1.2->brian2) (1.1.0)\n",
            "Requirement already satisfied: MarkupSafe>=0.23 in /usr/local/lib/python3.6/dist-packages (from jinja2>=2.7->brian2) (1.1.1)\n",
            "Building wheels for collected packages: brian2\n",
            "  Building wheel for brian2 (setup.py) ... \u001b[?25l\u001b[?25hdone\n",
            "  Created wheel for brian2: filename=Brian2-2.4.2-cp36-cp36m-linux_x86_64.whl size=1257537 sha256=98feb4e57bc3e4fc70b36409987d6f0992188899e6b855cc2f10571dc2c46c76\n",
            "  Stored in directory: /root/.cache/pip/wheels/5d/4b/cf/ef50e71df5479d67f981cbb17b1d842381019d27ba144d57de\n",
            "Successfully built brian2\n",
            "Installing collected packages: sympy, brian2\n",
            "  Found existing installation: sympy 1.1.1\n",
            "    Uninstalling sympy-1.1.1:\n",
            "      Successfully uninstalled sympy-1.1.1\n",
            "Successfully installed brian2-2.4.2 sympy-1.7.1\n"
          ],
          "name": "stdout"
        }
      ]
    },
    {
      "cell_type": "code",
      "metadata": {
        "id": "YHfPgWG45Gl8"
      },
      "source": [
        "from __future__ import division\n",
        "\n",
        "from pylab import *\n",
        "from brian2 import *\n",
        "import time\n",
        "\n",
        "from brian2.units.allunits import henry\n",
        "from scipy.stats import vonmises\n",
        "from scipy.stats import norm as s_norm\n",
        "from sklearn.metrics.pairwise import cosine_similarity\n",
        "\n",
        "%matplotlib inline\n",
        "\n",
        "plt.rcParams.update({'font.size': 18})\n",
        "plt.rcParams.update({'text.usetex': False})\n",
        "# matplotlib.rcParams['text.latex.preamble'] = [\n",
        "#     r'\\usepackage{amsmath}',\n",
        "#     r'\\usepackage{amssymb}']\n",
        "plt.rcParams.update({'font.family': 'serif', \n",
        "                     'font.serif':['Computer Modern']})"
      ],
      "execution_count": null,
      "outputs": []
    },
    {
      "cell_type": "code",
      "metadata": {
        "id": "YSwZtQOG5Lu6"
      },
      "source": [
        "def crvec(N, D=1):\n",
        "    rphase = 2*np.pi * np.random.rand(D, N)\n",
        "    return np.cos(rphase) + 1.0j * np.sin(rphase)"
      ],
      "execution_count": null,
      "outputs": []
    },
    {
      "cell_type": "code",
      "metadata": {
        "id": "oNJD8Nk_5Ms-"
      },
      "source": [
        "def norm_range(v):\n",
        "    return (v-v.min())/(v.max()-v.min())"
      ],
      "execution_count": null,
      "outputs": []
    },
    {
      "cell_type": "code",
      "metadata": {
        "id": "AhayIB_H5hQR"
      },
      "source": [
        "def activation_thresh(x, sigma=0.0, c_thresh=None):\n",
        "    \n",
        "    if c_thresh is None:\n",
        "        N = x.shape[0]\n",
        "        c_thresh = 2.0 / N**0.5\n",
        "        \n",
        "    xn = np.abs(x)\n",
        "    \n",
        "    a = (x ) / (np.abs(x) + 1e-12)\n",
        "    a[xn < c_thresh] = 0\n",
        "    \n",
        "    return a"
      ],
      "execution_count": null,
      "outputs": []
    },
    {
      "cell_type": "code",
      "metadata": {
        "id": "SBx4pbjM5jNQ"
      },
      "source": [
        "def cviz_im(cvec):\n",
        "    ss = int(len(cvec)**0.5)\n",
        "    \n",
        "    ss_idx = ss**2\n",
        "    \n",
        "    im_cvec = np.zeros((ss, ss,3))\n",
        "#     im_cvec[:,:,3]=1\n",
        "    c=0\n",
        "    for i in range(ss):\n",
        "        for j in range(ss):\n",
        "            if np.abs(cvec[c]) > 0.05:\n",
        "                im_cvec[i,j,:] = matplotlib.colors.hsv_to_rgb([(np.angle(cvec[c])/2/pi + 1) % 1, 1, 1])\n",
        "                \n",
        "            c+=1\n",
        "                \n",
        "    return im_cvec"
      ],
      "execution_count": null,
      "outputs": []
    },
    {
      "cell_type": "code",
      "metadata": {
        "id": "4pu8tFGW5lJW"
      },
      "source": [
        "def phase2spikes(cv, freq=5.0):\n",
        "    st = np.angle(cv) / (2*pi*freq)\n",
        "    return st\n"
      ],
      "execution_count": null,
      "outputs": []
    },
    {
      "cell_type": "code",
      "metadata": {
        "id": "jb8tRTPaKdRT"
      },
      "source": [
        "def my_cosine_similarity(vec1, vec2):\n",
        "    return np.dot(vec1, vec2)/(np.linalg.norm(vec1)*np.linalg.norm(vec2))"
      ],
      "execution_count": null,
      "outputs": []
    },
    {
      "cell_type": "code",
      "metadata": {
        "id": "df-gPw5OOpMg"
      },
      "source": [
        "def phasor_similarity(vec1, vec2):\n",
        "  difference = np.abs(vec1 - vec2)\n",
        "  return np.abs(np.exp(1j*difference).sum())/len(vec1)"
      ],
      "execution_count": null,
      "outputs": []
    },
    {
      "cell_type": "code",
      "metadata": {
        "id": "8nnQMNSxXXWt"
      },
      "source": [
        "def angle_similarity(vec1, vec2):\n",
        "  diff = np.angle(vec1) - np.angle(vec2)\n",
        "  return np.cos(diff).sum()/len(diff)"
      ],
      "execution_count": null,
      "outputs": []
    },
    {
      "cell_type": "code",
      "metadata": {
        "id": "qR_0QJfdfmfu"
      },
      "source": [
        "def hot_angle_similarity(input, target):\n",
        "  # Get indices where val in target != 0\n",
        "  indices = np.nonzero(target)\n",
        "  diff = np.angle(target[indices]) - np.angle(input[indices])\n",
        "  return np.cos(diff).sum()/len(diff)"
      ],
      "execution_count": null,
      "outputs": []
    },
    {
      "cell_type": "markdown",
      "metadata": {
        "id": "nPrgBkIJ5n6N"
      },
      "source": [
        "# TPAM #"
      ]
    },
    {
      "cell_type": "markdown",
      "metadata": {
        "id": "SwBgAS-y5yyV"
      },
      "source": [
        "## Store random sparse phasor patterns in network ##"
      ]
    },
    {
      "cell_type": "code",
      "metadata": {
        "id": "yGW4GrxR5nV9"
      },
      "source": [
        "N=25**2\n",
        "D=201\n",
        "Ks=25\n",
        "\n",
        "letter_vectors_c = crvec(N, D)\n",
        "\n",
        "for d in range(D):\n",
        "    ip = np.random.choice(N, size=(N-Ks), replace=False)\n",
        "    letter_vectors_c[d, ip] = 0\n",
        "    \n",
        "letter_vectors = 2 * (np.random.randn(D,N) < 0) - 1"
      ],
      "execution_count": null,
      "outputs": []
    },
    {
      "cell_type": "code",
      "metadata": {
        "id": "eh3ZIyaD5u7l"
      },
      "source": [
        "J_c = np.dot(letter_vectors_c.T, np.conj(letter_vectors_c))\n",
        "np.fill_diagonal(J_c, 0)"
      ],
      "execution_count": null,
      "outputs": []
    },
    {
      "cell_type": "markdown",
      "metadata": {
        "id": "9sw-fpvw53_9"
      },
      "source": [
        "## Network dynamics and simulations ##"
      ]
    },
    {
      "cell_type": "code",
      "metadata": {
        "colab": {
          "base_uri": "https://localhost:8080/",
          "height": 290
        },
        "id": "Gyz03X3453LN",
        "outputId": "0e3b3443-d00f-4b61-8ed6-e5a968495903"
      },
      "source": [
        "max_steps = 20\n",
        "hop_hist = np.zeros((D, max_steps+1))\n",
        "hop_s_hist = np.zeros((N, max_steps+1), 'complex')\n",
        "\n",
        "target_idx = 100\n",
        "\n",
        "hop_state_i = letter_vectors_c[target_idx,:].copy()\n",
        "hop_state_i[:300] = 0\n",
        "\n",
        "noise_state = 0.0 * np.random.randn(N) * np.squeeze(crvec(N,1)) #2*(np.random.randn(N) < 0) - 1\n",
        "hop_state = hop_state_i + noise_state\n",
        "\n",
        "hop_state /= norm(hop_state)\n",
        "\n",
        "cols = get_cmap('copper', max_steps)\n",
        "\n",
        "c_thresh = 0.6/Ks**0.5\n",
        "for i in range(max_steps):\n",
        "    hop_hist[:,i] = np.real(np.dot(np.conj(letter_vectors_c), hop_state))    \n",
        "    hop_s_hist[:,i] = hop_state\n",
        "    \n",
        "    hop_u = np.dot(J_c, hop_state) / Ks\n",
        "    hop_state = activation_thresh(hop_u, c_thresh=c_thresh )\n",
        "    hop_state /= norm(hop_state)\n",
        "\n",
        "    plot(hop_hist[:,i], c=cols(i))\n",
        "\n",
        "hop_hist[:,i+1] =  np.real(np.dot(np.conj(letter_vectors_c), hop_state))\n",
        "plot(hop_hist[:,i], c=cols(i))"
      ],
      "execution_count": null,
      "outputs": [
        {
          "output_type": "execute_result",
          "data": {
            "text/plain": [
              "[<matplotlib.lines.Line2D at 0x7f4b75361080>]"
            ]
          },
          "metadata": {
            "tags": []
          },
          "execution_count": 15
        },
        {
          "output_type": "stream",
          "text": [
            "findfont: Font family ['serif'] not found. Falling back to DejaVu Sans.\n"
          ],
          "name": "stderr"
        },
        {
          "output_type": "display_data",
          "data": {
            "image/png": "[encoded data removed]",
            "text/plain": [
              "<Figure size 432x288 with 1 Axes>"
            ]
          },
          "metadata": {
            "tags": [],
            "needs_background": "light"
          }
        }
      ]
    },
    {
      "cell_type": "code",
      "metadata": {
        "colab": {
          "base_uri": "https://localhost:8080/",
          "height": 193
        },
        "id": "LDziAZwE6G8k",
        "outputId": "ea03a273-c280-494d-da8d-6a46c669e422"
      },
      "source": [
        "figure(figsize=(6,3))\n",
        "\n",
        "subplot(131)\n",
        "imshow(cviz_im(hop_state_i))\n",
        "title('Initial')\n",
        "subplot(132)\n",
        "imshow(cviz_im(hop_s_hist[:, -2]))\n",
        "title('Converged')\n",
        "subplot(133)\n",
        "imshow(cviz_im(letter_vectors_c[target_idx,:]))\n",
        "title('Target')"
      ],
      "execution_count": null,
      "outputs": [
        {
          "output_type": "execute_result",
          "data": {
            "text/plain": [
              "Text(0.5, 1.0, 'Target')"
            ]
          },
          "metadata": {
            "tags": []
          },
          "execution_count": 16
        },
        {
          "output_type": "stream",
          "text": [
            "findfont: Font family ['serif'] not found. Falling back to DejaVu Sans.\n"
          ],
          "name": "stderr"
        },
        {
          "output_type": "display_data",
          "data": {
            "image/png": "[encoded data removed]",
            "text/plain": [
              "<Figure size 432x216 with 3 Axes>"
            ]
          },
          "metadata": {
            "tags": [],
            "needs_background": "light"
          }
        }
      ]
    },
    {
      "cell_type": "markdown",
      "metadata": {
        "id": "Rv5CPSzrAYBL"
      },
      "source": [
        "# Stochastic TPAM #"
      ]
    },
    {
      "cell_type": "code",
      "metadata": {
        "id": "NqrEWwGWA7HP"
      },
      "source": [
        "def stochastic_activation_thresh(x, k, sigma=0.0, type='vonmises'):\n",
        "  \"\"\"\n",
        "  Take a von mises distribution over the incoming data and sample\n",
        "  a threshold.\n",
        "  \"\"\"\n",
        "  top_k = np.sort(x)[-k:][::-1]\n",
        "  if type == 'vonmises':\n",
        "    norm_angle = (np.angle(top_k) + np.pi)/(2*np.pi)\n",
        "    dist = vonmises.fit(norm_angle, fscale=1)\n",
        "    # c_thresh = vonmises.rvs(kappa=dist[0], loc=dist[1])\n",
        "    c_thresh = vonmises.rvs(kappa=dist[0]*10, loc=0.2*dist[1])\n",
        "    # print(f'kappa: {dist[0]*10}, loc: {0.2*dist[1]}')\n",
        "  elif type == 'norm':\n",
        "    dist = s_norm.fit(np.abs(top_k), fscale=1)\n",
        "    c_thresh = s_norm.rvs(scale=dist[1], loc=0.2*dist[0])\n",
        "  else: \n",
        "    N = x.shape[0]\n",
        "    c_thresh = 2.0 / N**0.5\n",
        "  # c_thresh = 0.12\n",
        "  # print(\"stochastic threshold: \", c_thresh)\n",
        "      \n",
        "  xn = np.abs(x)\n",
        "  # print(\"x: \",x)\n",
        "  # print(\"xn: \",xn)\n",
        "  \n",
        "  a = (x) / (np.abs(x) + 1e-12)\n",
        "  a[xn < c_thresh] = 0\n",
        "  \n",
        "  return a"
      ],
      "execution_count": null,
      "outputs": []
    },
    {
      "cell_type": "markdown",
      "metadata": {
        "id": "Gi__BpUErRbc"
      },
      "source": [
        "### Testing ###"
      ]
    },
    {
      "cell_type": "code",
      "metadata": {
        "id": "YvPHj21-FF7R",
        "colab": {
          "base_uri": "https://localhost:8080/",
          "height": 232
        },
        "outputId": "a8f2215d-3cd6-4106-8b55-681f0f3e13eb"
      },
      "source": [
        "x=np.linspace(0,2*pi,num=1000)\n",
        "y= np.exp(1j*y)\n",
        "dist = s_norm.fit(np.abs(y), fscale=1)\n",
        "c_thresh = s_norm.rvs(scale=dist[1], loc=0.2*dist[0])\n",
        "\n",
        "fig, ax = plt.subplot(1,2, figsize=(9,4))\n",
        "\n",
        "ax0.plot(x, )"
      ],
      "execution_count": null,
      "outputs": [
        {
          "output_type": "error",
          "ename": "NameError",
          "evalue": "ignored",
          "traceback": [
            "\u001b[0;31m---------------------------------------------------------------------------\u001b[0m",
            "\u001b[0;31mNameError\u001b[0m                                 Traceback (most recent call last)",
            "\u001b[0;32m<ipython-input-18-3a847e3a6ec9>\u001b[0m in \u001b[0;36m<module>\u001b[0;34m()\u001b[0m\n\u001b[1;32m      1\u001b[0m \u001b[0mx\u001b[0m\u001b[0;34m=\u001b[0m\u001b[0mnp\u001b[0m\u001b[0;34m.\u001b[0m\u001b[0mlinspace\u001b[0m\u001b[0;34m(\u001b[0m\u001b[0;36m0\u001b[0m\u001b[0;34m,\u001b[0m\u001b[0;36m2\u001b[0m\u001b[0;34m*\u001b[0m\u001b[0mpi\u001b[0m\u001b[0;34m,\u001b[0m\u001b[0mnum\u001b[0m\u001b[0;34m=\u001b[0m\u001b[0;36m1000\u001b[0m\u001b[0;34m)\u001b[0m\u001b[0;34m\u001b[0m\u001b[0;34m\u001b[0m\u001b[0m\n\u001b[0;32m----> 2\u001b[0;31m \u001b[0my\u001b[0m\u001b[0;34m=\u001b[0m \u001b[0mnp\u001b[0m\u001b[0;34m.\u001b[0m\u001b[0mexp\u001b[0m\u001b[0;34m(\u001b[0m\u001b[0;36m1j\u001b[0m\u001b[0;34m*\u001b[0m\u001b[0my\u001b[0m\u001b[0;34m)\u001b[0m\u001b[0;34m\u001b[0m\u001b[0;34m\u001b[0m\u001b[0m\n\u001b[0m\u001b[1;32m      3\u001b[0m \u001b[0mdist\u001b[0m \u001b[0;34m=\u001b[0m \u001b[0ms_norm\u001b[0m\u001b[0;34m.\u001b[0m\u001b[0mfit\u001b[0m\u001b[0;34m(\u001b[0m\u001b[0mnp\u001b[0m\u001b[0;34m.\u001b[0m\u001b[0mabs\u001b[0m\u001b[0;34m(\u001b[0m\u001b[0my\u001b[0m\u001b[0;34m)\u001b[0m\u001b[0;34m,\u001b[0m \u001b[0mfscale\u001b[0m\u001b[0;34m=\u001b[0m\u001b[0;36m1\u001b[0m\u001b[0;34m)\u001b[0m\u001b[0;34m\u001b[0m\u001b[0;34m\u001b[0m\u001b[0m\n\u001b[1;32m      4\u001b[0m \u001b[0mc_thresh\u001b[0m \u001b[0;34m=\u001b[0m \u001b[0ms_norm\u001b[0m\u001b[0;34m.\u001b[0m\u001b[0mrvs\u001b[0m\u001b[0;34m(\u001b[0m\u001b[0mscale\u001b[0m\u001b[0;34m=\u001b[0m\u001b[0mdist\u001b[0m\u001b[0;34m[\u001b[0m\u001b[0;36m1\u001b[0m\u001b[0;34m]\u001b[0m\u001b[0;34m,\u001b[0m \u001b[0mloc\u001b[0m\u001b[0;34m=\u001b[0m\u001b[0;36m0.2\u001b[0m\u001b[0;34m*\u001b[0m\u001b[0mdist\u001b[0m\u001b[0;34m[\u001b[0m\u001b[0;36m0\u001b[0m\u001b[0;34m]\u001b[0m\u001b[0;34m)\u001b[0m\u001b[0;34m\u001b[0m\u001b[0;34m\u001b[0m\u001b[0m\n\u001b[1;32m      5\u001b[0m \u001b[0;34m\u001b[0m\u001b[0m\n",
            "\u001b[0;31mNameError\u001b[0m: name 'y' is not defined"
          ]
        }
      ]
    },
    {
      "cell_type": "code",
      "metadata": {
        "colab": {
          "base_uri": "https://localhost:8080/"
        },
        "id": "O4cbiN82S-gQ",
        "outputId": "fa66cec5-a155-474b-bddb-dd36264c73bc"
      },
      "source": [
        "x = np.array([-5,-4,-3,-2,-1,-0.3,0,0.3,1,2,3,4,5,6])\n",
        "\n",
        "D = 3\n",
        "N = 100\n",
        "rphase = 2*np.pi * np.random.rand(N)\n",
        "comp = np.cos(rphase) + 1.0j * np.sin(rphase)\n",
        "\n",
        "c_thresh = 0.6/Ks**0.5\n",
        "x = np.angle(comp)/(2*np.pi)\n",
        "stochastic_activation_thresh(x, k = Ks)\n",
        "activation_thresh(x, c_thresh=c_thresh)"
      ],
      "execution_count": null,
      "outputs": [
        {
          "output_type": "stream",
          "text": [
            "WARNING    /usr/local/lib/python3.6/dist-packages/scipy/stats/_continuous_distns.py:7497: RuntimeWarning: overflow encountered in exp\n",
            "  return np.exp(kappa * np.cos(x)) / (2*np.pi*sc.i0(kappa))\n",
            " [py.warnings]\n",
            "WARNING    /usr/local/lib/python3.6/dist-packages/scipy/stats/_continuous_distns.py:7497: RuntimeWarning: invalid value encountered in true_divide\n",
            "  return np.exp(kappa * np.cos(x)) / (2*np.pi*sc.i0(kappa))\n",
            " [py.warnings]\n"
          ],
          "name": "stderr"
        },
        {
          "output_type": "execute_result",
          "data": {
            "text/plain": [
              "array([-1.,  0.,  1.,  1.,  1., -1.,  1.,  0.,  0.,  0.,  1., -1., -1.,\n",
              "        1.,  0., -1., -1.,  0.,  0.,  1.,  1.,  1., -1.,  1.,  1., -1.,\n",
              "       -1.,  1., -1.,  0.,  0., -1., -1., -1., -1.,  1., -1., -1.,  1.,\n",
              "        1.,  0.,  1.,  1., -1.,  0.,  0.,  1.,  1.,  0.,  1.,  0.,  0.,\n",
              "        1., -1.,  0.,  1.,  0.,  1., -1.,  1.,  1.,  1.,  0.,  1., -1.,\n",
              "       -1., -1., -1.,  1., -1., -1.,  0., -1., -1.,  1., -1.,  1., -1.,\n",
              "        0.,  0., -1., -1., -1.,  1., -1., -1., -1.,  1.,  0.,  1., -1.,\n",
              "        1.,  0.,  0.,  0.,  1., -1.,  0.,  1., -1.])"
            ]
          },
          "metadata": {
            "tags": []
          },
          "execution_count": 20
        }
      ]
    },
    {
      "cell_type": "code",
      "metadata": {
        "id": "DdOuDAmmkb0s"
      },
      "source": [
        "kappa = 4\n",
        "x = np.linspace(vonmises.ppf(0.01, kappa), vonmises.ppf(0.99, kappa), 100)\n",
        "rphase = 2*np.pi * x\n",
        "comp = np.cos(rphase) + 1.0j * np.sin(rphase)\n",
        "x=np.angle(comp)"
      ],
      "execution_count": null,
      "outputs": []
    },
    {
      "cell_type": "code",
      "metadata": {
        "id": "J1yxBKoeWky1",
        "colab": {
          "base_uri": "https://localhost:8080/",
          "height": 215
        },
        "outputId": "37a2b0a9-0cc5-48e2-b6df-836625017483"
      },
      "source": [
        "dist = vonmises.fit(x, fscale=1)\n",
        "vonmises.rvs(kappa=10*dist[0], loc=1.5*dist[1])\n",
        "c_thresh = vonmises.rvs(kappa=dist[0]*10, loc=1.5*dist[1])\n",
        "# stochastic_activation_thresh(x)\n",
        "dist = s_norm.fit(np.abs(top_k), fscale=1)\n",
        "c_thresh = s_norm.rvs(scale=dist[1], loc=0.2*dist[0])"
      ],
      "execution_count": null,
      "outputs": [
        {
          "output_type": "error",
          "ename": "NameError",
          "evalue": "ignored",
          "traceback": [
            "\u001b[0;31m---------------------------------------------------------------------------\u001b[0m",
            "\u001b[0;31mNameError\u001b[0m                                 Traceback (most recent call last)",
            "\u001b[0;32m<ipython-input-23-9c252bd16410>\u001b[0m in \u001b[0;36m<module>\u001b[0;34m()\u001b[0m\n\u001b[1;32m      3\u001b[0m \u001b[0mc_thresh\u001b[0m \u001b[0;34m=\u001b[0m \u001b[0mvonmises\u001b[0m\u001b[0;34m.\u001b[0m\u001b[0mrvs\u001b[0m\u001b[0;34m(\u001b[0m\u001b[0mkappa\u001b[0m\u001b[0;34m=\u001b[0m\u001b[0mdist\u001b[0m\u001b[0;34m[\u001b[0m\u001b[0;36m0\u001b[0m\u001b[0;34m]\u001b[0m\u001b[0;34m*\u001b[0m\u001b[0;36m10\u001b[0m\u001b[0;34m,\u001b[0m \u001b[0mloc\u001b[0m\u001b[0;34m=\u001b[0m\u001b[0;36m1.5\u001b[0m\u001b[0;34m*\u001b[0m\u001b[0mdist\u001b[0m\u001b[0;34m[\u001b[0m\u001b[0;36m1\u001b[0m\u001b[0;34m]\u001b[0m\u001b[0;34m)\u001b[0m\u001b[0;34m\u001b[0m\u001b[0;34m\u001b[0m\u001b[0m\n\u001b[1;32m      4\u001b[0m \u001b[0;31m# stochastic_activation_thresh(x)\u001b[0m\u001b[0;34m\u001b[0m\u001b[0;34m\u001b[0m\u001b[0;34m\u001b[0m\u001b[0m\n\u001b[0;32m----> 5\u001b[0;31m \u001b[0mdist\u001b[0m \u001b[0;34m=\u001b[0m \u001b[0ms_norm\u001b[0m\u001b[0;34m.\u001b[0m\u001b[0mfit\u001b[0m\u001b[0;34m(\u001b[0m\u001b[0mnp\u001b[0m\u001b[0;34m.\u001b[0m\u001b[0mabs\u001b[0m\u001b[0;34m(\u001b[0m\u001b[0mtop_k\u001b[0m\u001b[0;34m)\u001b[0m\u001b[0;34m,\u001b[0m \u001b[0mfscale\u001b[0m\u001b[0;34m=\u001b[0m\u001b[0;36m1\u001b[0m\u001b[0;34m)\u001b[0m\u001b[0;34m\u001b[0m\u001b[0;34m\u001b[0m\u001b[0m\n\u001b[0m\u001b[1;32m      6\u001b[0m \u001b[0mc_thresh\u001b[0m \u001b[0;34m=\u001b[0m \u001b[0ms_norm\u001b[0m\u001b[0;34m.\u001b[0m\u001b[0mrvs\u001b[0m\u001b[0;34m(\u001b[0m\u001b[0mscale\u001b[0m\u001b[0;34m=\u001b[0m\u001b[0mdist\u001b[0m\u001b[0;34m[\u001b[0m\u001b[0;36m1\u001b[0m\u001b[0;34m]\u001b[0m\u001b[0;34m,\u001b[0m \u001b[0mloc\u001b[0m\u001b[0;34m=\u001b[0m\u001b[0;36m0.2\u001b[0m\u001b[0;34m*\u001b[0m\u001b[0mdist\u001b[0m\u001b[0;34m[\u001b[0m\u001b[0;36m0\u001b[0m\u001b[0;34m]\u001b[0m\u001b[0;34m)\u001b[0m\u001b[0;34m\u001b[0m\u001b[0;34m\u001b[0m\u001b[0m\n",
            "\u001b[0;31mNameError\u001b[0m: name 'top_k' is not defined"
          ]
        }
      ]
    },
    {
      "cell_type": "code",
      "metadata": {
        "colab": {
          "base_uri": "https://localhost:8080/",
          "height": 273
        },
        "id": "fK4uHljzWycq",
        "outputId": "ad604ec8-01b0-41f8-f57d-53f40ac936c9"
      },
      "source": [
        "fig, ax = plt.subplots(1, 1)\n",
        "rv = vonmises(dist[0])\n",
        "ax.plot(x, rv.pdf(x), 'k-', lw=2, label='frozen pdf')\n",
        "ax.vlines(c_thresh, ymin=0, ymax=max(rv.pdf(x)), colors='red')\n",
        "r = vonmises.rvs(kappa=dist[0], loc=dist[1], size = 1000)\n",
        "ax.hist(r, density=True, histtype='stepfilled', alpha=0.2)\n",
        "ax.legend(loc='best', frameon=False)\n",
        "plt.show()"
      ],
      "execution_count": null,
      "outputs": [
        {
          "output_type": "display_data",
          "data": {
            "image/png": "[encoded data removed]",
            "text/plain": [
              "<Figure size 432x288 with 1 Axes>"
            ]
          },
          "metadata": {
            "tags": [],
            "needs_background": "light"
          }
        }
      ]
    },
    {
      "cell_type": "code",
      "metadata": {
        "id": "jqFnaw8QWxPI"
      },
      "source": [
        ""
      ],
      "execution_count": null,
      "outputs": []
    },
    {
      "cell_type": "markdown",
      "metadata": {
        "id": "nAZHeJY1AlzJ"
      },
      "source": [
        "## Store random sparse phasors in network ##"
      ]
    },
    {
      "cell_type": "code",
      "metadata": {
        "id": "qhP7J81PAozZ"
      },
      "source": [
        "N=25**2\n",
        "D=201\n",
        "Ks=25\n",
        "\n",
        "letter_vectors_c = crvec(N, D)\n",
        "\n",
        "for d in range(D):\n",
        "    ip = np.random.choice(N, size=(N-Ks), replace=False)\n",
        "    letter_vectors_c[d, ip] = 0\n",
        "    \n",
        "letter_vectors = 2 * (np.random.randn(D,N) < 0) - 1"
      ],
      "execution_count": null,
      "outputs": []
    },
    {
      "cell_type": "code",
      "metadata": {
        "id": "ymHHwLxaAtaf"
      },
      "source": [
        "J_c = np.dot(letter_vectors_c.T, np.conj(letter_vectors_c))\n",
        "np.fill_diagonal(J_c, 0)"
      ],
      "execution_count": null,
      "outputs": []
    },
    {
      "cell_type": "markdown",
      "metadata": {
        "id": "Qc4mXKfVAw3A"
      },
      "source": [
        "## Network dynamics and simulations ##"
      ]
    },
    {
      "cell_type": "code",
      "metadata": {
        "colab": {
          "base_uri": "https://localhost:8080/",
          "height": 784
        },
        "id": "x9-hTmb3AxP7",
        "outputId": "7632e8de-f5ea-4fb6-9769-6cbc1fb953ae"
      },
      "source": [
        "fig, (ax0, ax1) = plt.subplots(1, 2, figsize=(12, 4), sharey=True)\n",
        "\n",
        "\n",
        "max_steps = 20\n",
        "\n",
        "hop_hist = np.zeros((D, max_steps+1))\n",
        "hop_s_hist = np.zeros((N, max_steps+1), 'complex')\n",
        "\n",
        "target_idx = 100\n",
        "\n",
        "hop_state_i = letter_vectors_c[target_idx,:].copy()\n",
        "hop_state_i[:300] = 0\n",
        "\n",
        "noise_state = 0.2 * np.random.randn(N) * np.squeeze(crvec(N,1)) #2*(np.random.randn(N) < 0) - 1\n",
        "hop_state = hop_state_i + noise_state\n",
        "\n",
        "hop_state /= norm(hop_state)\n",
        "\n",
        "# Stochastic version\n",
        "hop_hist_stc = np.zeros((D, max_steps+1))\n",
        "hop_s_hist_stc = np.zeros((N, max_steps+1), 'complex')\n",
        "\n",
        "target_idx = 100\n",
        "\n",
        "hop_state_i_stc = letter_vectors_c[target_idx,:].copy()\n",
        "hop_state_i_stc[:300] = 0\n",
        "\n",
        "noise_state_stc = 0.2 * np.random.randn(N) * np.squeeze(crvec(N,1)) #2*(np.random.randn(N) < 0) - 1\n",
        "hop_state_stc = hop_state_i_stc + noise_state_stc\n",
        "\n",
        "hop_state_stc /= norm(hop_state_stc)\n",
        "\n",
        "cols = get_cmap('copper', max_steps)\n",
        "\n",
        "c_thresh = 0.6/Ks**0.5\n",
        "for i in range(max_steps):\n",
        "    hop_hist[:,i] = np.real(np.dot(np.conj(letter_vectors_c), hop_state))    \n",
        "    hop_s_hist[:,i] = hop_state\n",
        "    \n",
        "    hop_u = np.dot(J_c, hop_state) / Ks\n",
        "    # ax2.plot(hop_u[:,i], c=cols(i))\n",
        "    print(\"regular threshold: \", c_thresh)\n",
        "    # print(\"original: \",hop_u[:50])\n",
        "    hop_state = activation_thresh(hop_u, c_thresh=c_thresh )\n",
        "    # print(\"original: \",hop_state[:50])\n",
        "    hop_state /= norm(hop_state)\n",
        "\n",
        "    ax0.plot(hop_hist[:,i], c=cols(i))\n",
        "\n",
        "    # Stochastic version\n",
        "    hop_hist_stc[:,i] = np.real(np.dot(np.conj(letter_vectors_c), hop_state_stc))    \n",
        "    hop_s_hist_stc[:,i] = hop_state_stc\n",
        "\n",
        "    hop_u_stc = np.dot(J_c, hop_state_stc) / Ks\n",
        "    # ax3.plot(hop_u_stc[:,i], c=cols(i))\n",
        "    # print(\"Stochastic: \", hop_u_stc[:50])\n",
        "    hop_state_stc = stochastic_activation_thresh(hop_u_stc, k=Ks)\n",
        "    # print(\"Stochastic: \", hop_state_stc[:50])\n",
        "\n",
        "    hop_state_stc /= norm(hop_state_stc)\n",
        "\n",
        "    ax1.plot(hop_hist_stc[:,i], c=cols(i))\n",
        "\n",
        "ax0.set_title(\"Normal thresholding\")\n",
        "hop_hist[:,i+1] =  np.real(np.dot(np.conj(letter_vectors_c), hop_state))\n",
        "ax0.plot(hop_hist[:,i], c=cols(i))\n",
        "\n",
        "ax1.set_title(\"Stochastic thresholding from von mises \")\n",
        "hop_hist_stc[:,i+1] =  np.real(np.dot(np.conj(letter_vectors_c), hop_state_stc))\n",
        "ax1.plot(hop_hist_stc[:,i], c=cols(i))"
      ],
      "execution_count": null,
      "outputs": [
        {
          "output_type": "stream",
          "text": [
            "WARNING    /usr/local/lib/python3.6/dist-packages/ipykernel_launcher.py:46: RuntimeWarning: invalid value encountered in true_divide\n",
            " [py.warnings]\n"
          ],
          "name": "stderr"
        },
        {
          "output_type": "stream",
          "text": [
            "regular threshold:  0.12\n"
          ],
          "name": "stdout"
        },
        {
          "output_type": "stream",
          "text": [
            "WARNING    /usr/local/lib/python3.6/dist-packages/ipykernel_launcher.py:60: RuntimeWarning: invalid value encountered in true_divide\n",
            " [py.warnings]\n",
            "WARNING    /usr/local/lib/python3.6/dist-packages/ipykernel_launcher.py:10: RuntimeWarning: invalid value encountered in less\n",
            "  # Remove the CWD from sys.path while we load stuff.\n",
            " [py.warnings]\n"
          ],
          "name": "stderr"
        },
        {
          "output_type": "stream",
          "text": [
            "regular threshold:  0.12\n"
          ],
          "name": "stdout"
        },
        {
          "output_type": "error",
          "ename": "RuntimeError",
          "evalue": "ignored",
          "traceback": [
            "\u001b[0;31m---------------------------------------------------------------------------\u001b[0m",
            "\u001b[0;31mRuntimeError\u001b[0m                              Traceback (most recent call last)",
            "\u001b[0;32m<ipython-input-26-be0cd5a3879c>\u001b[0m in \u001b[0;36m<module>\u001b[0;34m()\u001b[0m\n\u001b[1;32m     55\u001b[0m     \u001b[0;31m# ax3.plot(hop_u_stc[:,i], c=cols(i))\u001b[0m\u001b[0;34m\u001b[0m\u001b[0;34m\u001b[0m\u001b[0;34m\u001b[0m\u001b[0m\n\u001b[1;32m     56\u001b[0m     \u001b[0;31m# print(\"Stochastic: \", hop_u_stc[:50])\u001b[0m\u001b[0;34m\u001b[0m\u001b[0;34m\u001b[0m\u001b[0;34m\u001b[0m\u001b[0m\n\u001b[0;32m---> 57\u001b[0;31m     \u001b[0mhop_state_stc\u001b[0m \u001b[0;34m=\u001b[0m \u001b[0mstochastic_activation_thresh\u001b[0m\u001b[0;34m(\u001b[0m\u001b[0mhop_u_stc\u001b[0m\u001b[0;34m,\u001b[0m \u001b[0mk\u001b[0m\u001b[0;34m=\u001b[0m\u001b[0mKs\u001b[0m\u001b[0;34m)\u001b[0m\u001b[0;34m\u001b[0m\u001b[0;34m\u001b[0m\u001b[0m\n\u001b[0m\u001b[1;32m     58\u001b[0m     \u001b[0;31m# print(\"Stochastic: \", hop_state_stc[:50])\u001b[0m\u001b[0;34m\u001b[0m\u001b[0;34m\u001b[0m\u001b[0;34m\u001b[0m\u001b[0m\n\u001b[1;32m     59\u001b[0m \u001b[0;34m\u001b[0m\u001b[0m\n",
            "\u001b[0;32m<ipython-input-17-14f84f9118f3>\u001b[0m in \u001b[0;36mstochastic_activation_thresh\u001b[0;34m(x, k, sigma, type)\u001b[0m\n\u001b[1;32m      7\u001b[0m   \u001b[0;32mif\u001b[0m \u001b[0mtype\u001b[0m \u001b[0;34m==\u001b[0m \u001b[0;34m'vonmises'\u001b[0m\u001b[0;34m:\u001b[0m\u001b[0;34m\u001b[0m\u001b[0;34m\u001b[0m\u001b[0m\n\u001b[1;32m      8\u001b[0m     \u001b[0mnorm_angle\u001b[0m \u001b[0;34m=\u001b[0m \u001b[0;34m(\u001b[0m\u001b[0mnp\u001b[0m\u001b[0;34m.\u001b[0m\u001b[0mangle\u001b[0m\u001b[0;34m(\u001b[0m\u001b[0mtop_k\u001b[0m\u001b[0;34m)\u001b[0m \u001b[0;34m+\u001b[0m \u001b[0mnp\u001b[0m\u001b[0;34m.\u001b[0m\u001b[0mpi\u001b[0m\u001b[0;34m)\u001b[0m\u001b[0;34m/\u001b[0m\u001b[0;34m(\u001b[0m\u001b[0;36m2\u001b[0m\u001b[0;34m*\u001b[0m\u001b[0mnp\u001b[0m\u001b[0;34m.\u001b[0m\u001b[0mpi\u001b[0m\u001b[0;34m)\u001b[0m\u001b[0;34m\u001b[0m\u001b[0;34m\u001b[0m\u001b[0m\n\u001b[0;32m----> 9\u001b[0;31m     \u001b[0mdist\u001b[0m \u001b[0;34m=\u001b[0m \u001b[0mvonmises\u001b[0m\u001b[0;34m.\u001b[0m\u001b[0mfit\u001b[0m\u001b[0;34m(\u001b[0m\u001b[0mnorm_angle\u001b[0m\u001b[0;34m,\u001b[0m \u001b[0mfscale\u001b[0m\u001b[0;34m=\u001b[0m\u001b[0;36m1\u001b[0m\u001b[0;34m)\u001b[0m\u001b[0;34m\u001b[0m\u001b[0;34m\u001b[0m\u001b[0m\n\u001b[0m\u001b[1;32m     10\u001b[0m     \u001b[0;31m# c_thresh = vonmises.rvs(kappa=dist[0], loc=dist[1])\u001b[0m\u001b[0;34m\u001b[0m\u001b[0;34m\u001b[0m\u001b[0;34m\u001b[0m\u001b[0m\n\u001b[1;32m     11\u001b[0m     \u001b[0mc_thresh\u001b[0m \u001b[0;34m=\u001b[0m \u001b[0mvonmises\u001b[0m\u001b[0;34m.\u001b[0m\u001b[0mrvs\u001b[0m\u001b[0;34m(\u001b[0m\u001b[0mkappa\u001b[0m\u001b[0;34m=\u001b[0m\u001b[0mdist\u001b[0m\u001b[0;34m[\u001b[0m\u001b[0;36m0\u001b[0m\u001b[0;34m]\u001b[0m\u001b[0;34m*\u001b[0m\u001b[0;36m10\u001b[0m\u001b[0;34m,\u001b[0m \u001b[0mloc\u001b[0m\u001b[0;34m=\u001b[0m\u001b[0;36m0.2\u001b[0m\u001b[0;34m*\u001b[0m\u001b[0mdist\u001b[0m\u001b[0;34m[\u001b[0m\u001b[0;36m1\u001b[0m\u001b[0;34m]\u001b[0m\u001b[0;34m)\u001b[0m\u001b[0;34m\u001b[0m\u001b[0;34m\u001b[0m\u001b[0m\n",
            "\u001b[0;32m/usr/local/lib/python3.6/dist-packages/scipy/stats/_distn_infrastructure.py\u001b[0m in \u001b[0;36mfit\u001b[0;34m(self, data, *args, **kwds)\u001b[0m\n\u001b[1;32m   2279\u001b[0m \u001b[0;34m\u001b[0m\u001b[0m\n\u001b[1;32m   2280\u001b[0m         \u001b[0;32mif\u001b[0m \u001b[0;32mnot\u001b[0m \u001b[0mnp\u001b[0m\u001b[0;34m.\u001b[0m\u001b[0misfinite\u001b[0m\u001b[0;34m(\u001b[0m\u001b[0mdata\u001b[0m\u001b[0;34m)\u001b[0m\u001b[0;34m.\u001b[0m\u001b[0mall\u001b[0m\u001b[0;34m(\u001b[0m\u001b[0;34m)\u001b[0m\u001b[0;34m:\u001b[0m\u001b[0;34m\u001b[0m\u001b[0;34m\u001b[0m\u001b[0m\n\u001b[0;32m-> 2281\u001b[0;31m             \u001b[0;32mraise\u001b[0m \u001b[0mRuntimeError\u001b[0m\u001b[0;34m(\u001b[0m\u001b[0;34m\"The data contains non-finite values.\"\u001b[0m\u001b[0;34m)\u001b[0m\u001b[0;34m\u001b[0m\u001b[0;34m\u001b[0m\u001b[0m\n\u001b[0m\u001b[1;32m   2282\u001b[0m \u001b[0;34m\u001b[0m\u001b[0m\n\u001b[1;32m   2283\u001b[0m         \u001b[0mstart\u001b[0m \u001b[0;34m=\u001b[0m \u001b[0;34m[\u001b[0m\u001b[0;32mNone\u001b[0m\u001b[0;34m]\u001b[0m\u001b[0;34m*\u001b[0m\u001b[0;36m2\u001b[0m\u001b[0;34m\u001b[0m\u001b[0;34m\u001b[0m\u001b[0m\n",
            "\u001b[0;31mRuntimeError\u001b[0m: The data contains non-finite values."
          ]
        },
        {
          "output_type": "display_data",
          "data": {
            "image/png": "[encoded data removed]",
            "text/plain": [
              "<Figure size 864x288 with 2 Axes>"
            ]
          },
          "metadata": {
            "tags": [],
            "needs_background": "light"
          }
        }
      ]
    },
    {
      "cell_type": "code",
      "metadata": {
        "id": "ArYK4Mg2AuEJ"
      },
      "source": [
        "figure(figsize=(6,6))\n",
        "\n",
        "subplot(231)\n",
        "imshow(cviz_im(hop_state_i))\n",
        "title('Initial')\n",
        "subplot(232)\n",
        "imshow(cviz_im(hop_s_hist[:, -2]))\n",
        "title('Converged')\n",
        "subplot(233)\n",
        "imshow(cviz_im(letter_vectors_c[target_idx,:]))\n",
        "title('Target')\n",
        "\n",
        "subplot(234)\n",
        "imshow(cviz_im(hop_state_i_stc))\n",
        "title('Initial')\n",
        "subplot(235)\n",
        "imshow(cviz_im(hop_s_hist_stc[:, -2]))\n",
        "title('Converged')\n",
        "subplot(236)\n",
        "imshow(cviz_im(letter_vectors_c[target_idx,:]))\n",
        "title('Target')"
      ],
      "execution_count": null,
      "outputs": []
    },
    {
      "cell_type": "markdown",
      "metadata": {
        "id": "IuYP7Zs6PKnn"
      },
      "source": [
        "## Test similarity vs noise ##"
      ]
    },
    {
      "cell_type": "code",
      "metadata": {
        "id": "4xXfokNEJIkv"
      },
      "source": [
        "def test_thresholds(noise=0.0, layered = False):\n",
        "  max_steps = 20\n",
        "\n",
        "  hop_hist = np.zeros((D, max_steps+1))\n",
        "  hop_s_hist = np.zeros((N, max_steps+1), 'complex')\n",
        "\n",
        "  target_idx = 100\n",
        "\n",
        "  hop_state_i = letter_vectors_c[target_idx,:].copy()\n",
        "  hop_state_i[:300] = 0\n",
        "\n",
        "\n",
        "  if layered:\n",
        "    noise_state = noise*letter_vectors_c[target_idx-1,:].copy()\n",
        "    \n",
        "  else:\n",
        "    noise_state = noise * np.random.randn(N) * np.squeeze(crvec(N,1)) #2*(np.random.randn(N) < 0) - 1\n",
        "  hop_state = hop_state_i + noise_state\n",
        "\n",
        "  hop_state /= norm(hop_state)\n",
        "\n",
        "  # Stochastic version\n",
        "  hop_hist_stc = np.zeros((D, max_steps+1))\n",
        "  hop_s_hist_stc = np.zeros((N, max_steps+1), 'complex')\n",
        "\n",
        "  target_idx = 100\n",
        "\n",
        "  hop_state_i_stc = letter_vectors_c[target_idx,:].copy()\n",
        "  hop_state_i_stc[:300] = 0\n",
        "\n",
        "  if layered:\n",
        "    noise_state_stc = noise*letter_vectors_c[target_idx-1,:].copy()\n",
        "  else:\n",
        "     noise_state_stc = noise * np.random.randn(N) * np.squeeze(crvec(N,1)) #2*(np.random.randn(N) < 0) - 1\n",
        "\n",
        "  hop_state_stc = hop_state_i_stc + noise_state_stc\n",
        "\n",
        "  hop_state_stc /= norm(hop_state_stc)\n",
        "\n",
        "  cols = get_cmap('copper', max_steps)\n",
        "\n",
        "  c_thresh = 0.6/Ks**0.5\n",
        "  for i in range(max_steps):\n",
        "      hop_hist[:,i] = np.real(np.dot(np.conj(letter_vectors_c), hop_state))    \n",
        "      hop_s_hist[:,i] = hop_state\n",
        "      \n",
        "      hop_u = np.dot(J_c, hop_state) / Ks\n",
        "      # ax2.plot(hop_u[:,i], c=cols(i))\n",
        "      # print(\"regular threshold: \", c_thresh)\n",
        "      # print(\"original: \",hop_u[:50])\n",
        "      hop_state = activation_thresh(hop_u, c_thresh=c_thresh )\n",
        "      # print(\"original: \",hop_state[:50])\n",
        "\n",
        "      hop_state /= (norm(hop_state) + 1**-10)\n",
        "\n",
        "      # ax0.plot(hop_hist[:,i], c=cols(i))\n",
        "\n",
        "      # Stochastic version\n",
        "      hop_hist_stc[:,i] = np.real(np.dot(np.conj(letter_vectors_c), hop_state_stc))    \n",
        "      hop_s_hist_stc[:,i] = hop_state_stc\n",
        "\n",
        "      hop_u_stc = np.dot(J_c, hop_state_stc) / Ks\n",
        "      # ax3.plot(hop_u_stc[:,i], c=cols(i))\n",
        "      # print(\"Stochastic: \", hop_u_stc[:50])\n",
        "      hop_state_stc = stochastic_activation_thresh(hop_u_stc, k=Ks)\n",
        "      # print(\"Stochastic: \", hop_state_stc[:50])\n",
        "\n",
        "      hop_state_stc /= (norm(hop_state_stc) + 1**-10)\n",
        "\n",
        "      # ax1.plot(hop_hist_stc[:,i], c=cols(i))\n",
        "\n",
        "  # orig_output = np.angle(hop_s_hist[:, -2]).reshape(-1,1)\n",
        "  # stc_output = np.angle(hop_s_hist_stc[:, -2]).reshape(-1,1)\n",
        "  # target = np.angle(letter_vectors_c[target_idx,:]).reshape(-1,1)\n",
        "\n",
        "  # orig = cosine_similarity(orig_output, target)\n",
        "  # stochastic = cosine_similarity(stc_output, target)\n",
        "\n",
        "  orig_output = hop_s_hist[:, -2]\n",
        "  stc_output = hop_s_hist_stc[:, -2]\n",
        "  target = letter_vectors_c[target_idx,:]\n",
        "\n",
        "  # orig = my_cosine_similarity(orig_output, target)\n",
        "  # stochastic = my_cosine_similarity(stc_output, target)\n",
        "\n",
        "  orig = angle_similarity(orig_output, target)\n",
        "  stochastic = angle_similarity(stc_output, target)\n",
        "  hot_orig = hot_angle_similarity(orig_output, target)\n",
        "  hot_stochastic = hot_angle_similarity(stc_output, target)\n",
        "\n",
        "  # figure(figsize=(6,6))\n",
        "\n",
        "  # subplot(231)\n",
        "  # imshow(cviz_im(hop_state_i))\n",
        "  # title('Initial')\n",
        "  # subplot(232)\n",
        "  # imshow(cviz_im(hop_s_hist[:, -2]))\n",
        "  # title('Converged')\n",
        "  # subplot(233)\n",
        "  # imshow(cviz_im(letter_vectors_c[target_idx,:]))\n",
        "  # title('Target')\n",
        "\n",
        "  # subplot(234)\n",
        "  # imshow(cviz_im(hop_state_i_stc))\n",
        "  # title('Initial')\n",
        "  # subplot(235)\n",
        "  # imshow(cviz_im(hop_s_hist_stc[:, -2]))\n",
        "  # title('Converged')\n",
        "  # subplot(236)\n",
        "  # imshow(cviz_im(letter_vectors_c[target_idx,:]))\n",
        "  # title('Target')\n",
        "\n",
        "  return orig, stochastic, hot_orig, hot_stochastic"
      ],
      "execution_count": null,
      "outputs": []
    },
    {
      "cell_type": "code",
      "metadata": {
        "id": "tnrGXZE-OnyM"
      },
      "source": [
        "N=25**2\n",
        "D=201\n",
        "Ks=25\n",
        "\n",
        "letter_vectors_c = crvec(N, D)\n",
        "\n",
        "for d in range(D):\n",
        "    ip = np.random.choice(N, size=(N-Ks), replace=False)\n",
        "    letter_vectors_c[d, ip] = 0\n",
        "    \n",
        "letter_vectors = 2 * (np.random.randn(D,N) < 0) - 1"
      ],
      "execution_count": null,
      "outputs": []
    },
    {
      "cell_type": "code",
      "metadata": {
        "id": "Phupj_XnPG9T"
      },
      "source": [
        "J_c = np.dot(letter_vectors_c.T, np.conj(letter_vectors_c))\n",
        "np.fill_diagonal(J_c, 0)"
      ],
      "execution_count": null,
      "outputs": []
    },
    {
      "cell_type": "code",
      "metadata": {
        "id": "RipNImIEKKu5"
      },
      "source": [
        "\n",
        "num_samples = 10\n",
        "o_means = []\n",
        "s_means = []\n",
        "o_h_means = []\n",
        "s_h_means = []\n",
        "o_medians = []\n",
        "s_medians = []\n",
        "o_h_medians = []\n",
        "s_h_medians  = []\n",
        "o_variance = []\n",
        "s_variance = []\n",
        "o_h_variance = []\n",
        "s_h_variance = []\n",
        "for _ in range(num_samples):\n",
        "  o_set = []\n",
        "  s_set = []\n",
        "  o_h_set = []\n",
        "  s_h_set = []\n",
        "  x = np.linspace(0,0.4,num=100)\n",
        "  for noise in x:\n",
        "    print(\"noise: \",noise)\n",
        "    o, s, o_h, s_h = test_thresholds(noise=noise)\n",
        "    # print(f'original similarity: {o}, stochastic similarity: {s}')\n",
        "    o_set.append(o)\n",
        "    s_set.append(s)\n",
        "    o_h_set.append(o_h)\n",
        "    s_h_set.append(s_h)\n",
        "    \n",
        "  o_means.append(np.mean(o_set))\n",
        "  s_means.append(np.mean(s_set))\n",
        "  print(f'original mean similarity: {np.mean(o_set)}')\n",
        "  print(f'stochastic mean similarity: {np.mean(s_set)}')\n",
        "\n",
        "  o_h_means.append(np.mean(o_h_set))\n",
        "  s_h_means.append(np.mean(s_h_set))\n",
        "  print(f'original one-hot mean similarity: {np.mean(o_h_set)}')\n",
        "  print(f'stochastic one-hot mean similarity: {np.mean(s_h_set)}')\n",
        "  o_medians.append(np.median(o_set))\n",
        "  s_medians.append(np.median(s_set))\n",
        "\n",
        "  print(f'original median similarity: {np.median(o_set)}')\n",
        "  print(f'stochastic median similarity: {np.median(s_set)}')\n",
        "  o_h_medians.append(np.median(o_h_set))\n",
        "  s_h_medians.append(np.median(s_h_set))\n",
        "\n",
        "  print(f'original one-hot median similarity: {np.median(o_h_set)}')\n",
        "  print(f'stochastic one-hot median similarity: {np.median(s_h_set)}')\n",
        "\n",
        "  o_variance.append(np.var(o_set))\n",
        "  s_variance.append(np.var(s_set))\n",
        "  print(f'original variance: {np.var(o_set)}')\n",
        "  print(f'stochastic variance: {np.var(s_set)}')\n",
        "\n",
        "  o_h_variance.append(np.var(o_h_set))\n",
        "  s_h_variance.append(np.var(s_h_set))\n",
        "  print(f'original one-hot variance: {np.var(o_h_set)}')\n",
        "  print(f'stochastic one-hot variance: {np.var(s_h_set)}')\n",
        "\n",
        "  # fig, (ax0, ax1) = plt.subplot(1, 2, figsize=(12,5))\n",
        "\n",
        "  # ax0.plot(x, np.array(o_set), label='original')\n",
        "  # ax0.plot(x, np.array(s_set), label='stochastic')\n",
        "  # ax0.xlabel(\"Noise\")\n",
        "  # ax0.ylabel(\"Similarity\")\n",
        "  # ax0.title(\"Similarity vs. Noise\")\n",
        "  # ax0.legend()\n",
        "\n",
        "  # ax1.plot(x, np.array(o_h_set), label='original')\n",
        "  # ax1.plot(x, np.array(s_h_set), label='stochastic')\n",
        "  # ax1.xlabel(\"Noise\")\n",
        "  # ax1.ylabel(\"Similarity\")\n",
        "  # ax1.title(\"Hot Similarity vs. Noise\")\n",
        "  # ax1.legend();\n",
        "\n",
        "\n",
        "print(f'original mean similarity across iterations: {np.mean(o_means)}')\n",
        "print(f'stochastic mean similarity across iterations: {np.mean(s_means)}')\n",
        "print(f'original mean hot similarity across iterations: {np.mean(o_h_means)}')\n",
        "print(f'stochastic mean hot similarity across iterations: {np.mean(s_h_means)}')\n",
        "print(f'original median similarity across iterations: {np.median(o_medians)}')\n",
        "print(f'stochastic median similarity across iterations: {np.mean(s_medians)}')\n",
        "print(f'original median hot similarity across iterations: {np.median(o_h_medians)}')\n",
        "print(f'stochastic median hot similarity across iterations: {np.mean(s_h_medians)}')\n",
        "print(f'average original similarity variance across iterations: {np.mean(o_variance)}')\n",
        "print(f'average stochastic similarity variance across iterations: {np.mean(s_variance)}')\n",
        "print(f'average original hot similarity variance across iterations: {np.mean(o_h_variance)}')\n",
        "print(f'average stochastic hot similarity variance across iterations: {np.mean(s_h_variance)}')\n"
      ],
      "execution_count": null,
      "outputs": []
    },
    {
      "cell_type": "code",
      "metadata": {
        "colab": {
          "base_uri": "https://localhost:8080/"
        },
        "id": "JOOvo9yCjQu8",
        "outputId": "8800db35-bd53-4518-d4aa-1b0f0ce79a92"
      },
      "source": [
        "o_set = []\n",
        "s_set = []\n",
        "o_h_set = []\n",
        "s_h_set = []\n",
        "x = np.linspace(0,0.4,num=100)\n",
        "for noise in x:\n",
        "  print(\"noise: \",noise)\n",
        "  o, s, o_h, s_h = test_thresholds(noise=noise, layered = True)\n",
        "    # print(f'original similarity: {o}, stochastic similarity: {s}')\n",
        "  o_set.append(o)\n",
        "  s_set.append(s)\n",
        "  o_h_set.append(o_h)\n",
        "  s_h_set.append(s_h)\n",
        "    \n",
        "o_means.append(np.mean(o_set))\n",
        "s_means.append(np.mean(s_set))\n",
        "print(f'original mean similarity: {np.mean(o_set)}')\n",
        "print(f'stochastic mean similarity: {np.mean(s_set)}')\n",
        "\n",
        "o_h_means.append(np.mean(o_h_set))\n",
        "s_h_means.append(np.mean(s_h_set))\n",
        "print(f'original one-hot mean similarity: {np.mean(o_h_set)}')\n",
        "print(f'stochastic one-hot mean similarity: {np.mean(s_h_set)}')\n",
        "o_medians.append(np.median(o_set))\n",
        "s_medians.append(np.median(s_set))\n",
        "\n",
        "print(f'original median similarity: {np.median(o_set)}')\n",
        "print(f'stochastic median similarity: {np.median(s_set)}')\n",
        "o_h_medians.append(np.median(o_h_set))\n",
        "s_h_medians.append(np.median(s_h_set))\n",
        "\n",
        "print(f'original one-hot median similarity: {np.median(o_h_set)}')\n",
        "print(f'stochastic one-hot median similarity: {np.median(s_h_set)}')\n",
        "\n",
        "o_variance.append(np.var(o_set))\n",
        "s_variance.append(np.var(s_set))\n",
        "print(f'original variance: {np.var(o_set)}')\n",
        "print(f'stochastic variance: {np.var(s_set)}')\n",
        "\n",
        "o_h_variance.append(np.var(o_h_set))\n",
        "s_h_variance.append(np.var(s_h_set))\n",
        "print(f'original one-hot variance: {np.var(o_h_set)}')\n",
        "print(f'stochastic one-hot variance: {np.var(s_h_set)}')\n",
        "\n",
        "fig, (ax0, ax1) = plt.subplot(1,2,(1,2))\n",
        "\n",
        "ax0.plot(x, np.array(o_set), label='original')\n",
        "ax0.plot(x, np.array(s_set), label='stochastic')\n",
        "ax0.xlabel(\"Noise\")\n",
        "ax0.ylabel(\"Similarity\")\n",
        "ax0.title(\"Similarity vs. Noise\")\n",
        "ax0.legend()\n",
        "\n",
        "ax1.plot(x, np.array(o_h_set), label='original')\n",
        "ax1.plot(x, np.array(s_h_set), label='stochastic')\n",
        "ax1.xlabel(\"Noise\")\n",
        "ax1.ylabel(\"Similarity\")\n",
        "ax1.title(\"Hot Similarity vs. Noise\")\n",
        "ax1.legend();"
      ],
      "execution_count": null,
      "outputs": [
        {
          "output_type": "stream",
          "text": [
            "noise:  0.0\n"
          ],
          "name": "stdout"
        },
        {
          "output_type": "stream",
          "text": [
            "WARNING    /usr/local/lib/python3.6/dist-packages/scipy/stats/_continuous_distns.py:7497: RuntimeWarning: overflow encountered in exp\n",
            "  return np.exp(kappa * np.cos(x)) / (2*np.pi*sc.i0(kappa))\n",
            " [py.warnings]\n",
            "WARNING    /usr/local/lib/python3.6/dist-packages/scipy/stats/_continuous_distns.py:7497: RuntimeWarning: invalid value encountered in true_divide\n",
            "  return np.exp(kappa * np.cos(x)) / (2*np.pi*sc.i0(kappa))\n",
            " [py.warnings]\n"
          ],
          "name": "stderr"
        },
        {
          "output_type": "stream",
          "text": [
            "noise:  0.00404040404040404\n",
            "noise:  0.00808080808080808\n",
            "noise:  0.012121212121212121\n",
            "noise:  0.01616161616161616\n",
            "noise:  0.0202020202020202\n",
            "noise:  0.024242424242424242\n",
            "noise:  0.028282828282828285\n",
            "noise:  0.03232323232323232\n",
            "noise:  0.03636363636363636\n",
            "noise:  0.0404040404040404\n",
            "noise:  0.044444444444444446\n",
            "noise:  0.048484848484848485\n",
            "noise:  0.052525252525252523\n",
            "noise:  0.05656565656565657\n",
            "noise:  0.06060606060606061\n",
            "noise:  0.06464646464646465\n",
            "noise:  0.06868686868686869\n",
            "noise:  0.07272727272727272\n",
            "noise:  0.07676767676767676\n",
            "noise:  0.0808080808080808\n",
            "noise:  0.08484848484848485\n",
            "noise:  0.08888888888888889\n",
            "noise:  0.09292929292929293\n",
            "noise:  0.09696969696969697\n",
            "noise:  0.10101010101010101\n",
            "noise:  0.10505050505050505\n",
            "noise:  0.10909090909090909\n",
            "noise:  0.11313131313131314\n",
            "noise:  0.11717171717171718\n",
            "noise:  0.12121212121212122\n",
            "noise:  0.12525252525252525\n",
            "noise:  0.1292929292929293\n",
            "noise:  0.13333333333333333\n",
            "noise:  0.13737373737373737\n",
            "noise:  0.1414141414141414\n",
            "noise:  0.14545454545454545\n",
            "noise:  0.1494949494949495\n",
            "noise:  0.15353535353535352\n",
            "noise:  0.15757575757575756\n",
            "noise:  0.1616161616161616\n",
            "noise:  0.16565656565656567\n",
            "noise:  0.1696969696969697\n",
            "noise:  0.17373737373737375\n",
            "noise:  0.17777777777777778\n",
            "noise:  0.18181818181818182\n",
            "noise:  0.18585858585858586\n",
            "noise:  0.1898989898989899\n",
            "noise:  0.19393939393939394\n",
            "noise:  0.19797979797979798\n",
            "noise:  0.20202020202020202\n",
            "noise:  0.20606060606060606\n",
            "noise:  0.2101010101010101\n",
            "noise:  0.21414141414141413\n",
            "noise:  0.21818181818181817\n",
            "noise:  0.2222222222222222\n",
            "noise:  0.22626262626262628\n",
            "noise:  0.23030303030303031\n",
            "noise:  0.23434343434343435\n",
            "noise:  0.2383838383838384\n",
            "noise:  0.24242424242424243\n",
            "noise:  0.24646464646464647\n",
            "noise:  0.2505050505050505\n",
            "noise:  0.2545454545454545\n",
            "noise:  0.2585858585858586\n",
            "noise:  0.26262626262626265\n",
            "noise:  0.26666666666666666\n",
            "noise:  0.27070707070707073\n",
            "noise:  0.27474747474747474\n",
            "noise:  0.2787878787878788\n",
            "noise:  0.2828282828282828\n",
            "noise:  0.2868686868686869\n",
            "noise:  0.2909090909090909\n",
            "noise:  0.29494949494949496\n",
            "noise:  0.298989898989899\n",
            "noise:  0.30303030303030304\n",
            "noise:  0.30707070707070705\n",
            "noise:  0.3111111111111111\n",
            "noise:  0.3151515151515151\n",
            "noise:  0.3191919191919192\n",
            "noise:  0.3232323232323232\n",
            "noise:  0.32727272727272727\n",
            "noise:  0.33131313131313134\n",
            "noise:  0.33535353535353535\n",
            "noise:  0.3393939393939394\n",
            "noise:  0.3434343434343434\n",
            "noise:  0.3474747474747475\n",
            "noise:  0.3515151515151515\n",
            "noise:  0.35555555555555557\n",
            "noise:  0.3595959595959596\n",
            "noise:  0.36363636363636365\n",
            "noise:  0.36767676767676766\n",
            "noise:  0.3717171717171717\n",
            "noise:  0.37575757575757573\n",
            "noise:  0.3797979797979798\n",
            "noise:  0.3838383838383838\n",
            "noise:  0.3878787878787879\n",
            "noise:  0.39191919191919194\n",
            "noise:  0.39595959595959596\n",
            "noise:  0.4\n",
            "original mean similarity: 0.953269621160836\n",
            "stochastic mean similarity: 0.953269621160836\n",
            "original one-hot mean similarity: -0.16825947097910127\n",
            "stochastic one-hot mean similarity: -0.16825947097910127\n",
            "original median similarity: 0.9532696211608359\n",
            "stochastic median similarity: 0.9532696211608359\n",
            "original one-hot median similarity: -0.16825947097910124\n",
            "stochastic one-hot median similarity: -0.16825947097910124\n",
            "original variance: 1.232595164407831e-32\n",
            "stochastic variance: 1.232595164407831e-32\n",
            "original one-hot variance: 7.703719777548943e-34\n",
            "stochastic one-hot variance: 7.703719777548943e-34\n"
          ],
          "name": "stdout"
        },
        {
          "output_type": "error",
          "ename": "TypeError",
          "evalue": "ignored",
          "traceback": [
            "\u001b[0;31m---------------------------------------------------------------------------\u001b[0m",
            "\u001b[0;31mTypeError\u001b[0m                                 Traceback (most recent call last)",
            "\u001b[0;32m<ipython-input-32-707df4c680ee>\u001b[0m in \u001b[0;36m<module>\u001b[0;34m()\u001b[0m\n\u001b[1;32m     43\u001b[0m \u001b[0mprint\u001b[0m\u001b[0;34m(\u001b[0m\u001b[0;34mf'stochastic one-hot variance: {np.var(s_h_set)}'\u001b[0m\u001b[0;34m)\u001b[0m\u001b[0;34m\u001b[0m\u001b[0;34m\u001b[0m\u001b[0m\n\u001b[1;32m     44\u001b[0m \u001b[0;34m\u001b[0m\u001b[0m\n\u001b[0;32m---> 45\u001b[0;31m \u001b[0mfig\u001b[0m\u001b[0;34m,\u001b[0m \u001b[0;34m(\u001b[0m\u001b[0max0\u001b[0m\u001b[0;34m,\u001b[0m \u001b[0max1\u001b[0m\u001b[0;34m)\u001b[0m \u001b[0;34m=\u001b[0m \u001b[0mplt\u001b[0m\u001b[0;34m.\u001b[0m\u001b[0msubplot\u001b[0m\u001b[0;34m(\u001b[0m\u001b[0;36m1\u001b[0m\u001b[0;34m,\u001b[0m\u001b[0;36m2\u001b[0m\u001b[0;34m,\u001b[0m\u001b[0;34m(\u001b[0m\u001b[0;36m1\u001b[0m\u001b[0;34m,\u001b[0m\u001b[0;36m2\u001b[0m\u001b[0;34m)\u001b[0m\u001b[0;34m)\u001b[0m\u001b[0;34m\u001b[0m\u001b[0;34m\u001b[0m\u001b[0m\n\u001b[0m\u001b[1;32m     46\u001b[0m \u001b[0;34m\u001b[0m\u001b[0m\n\u001b[1;32m     47\u001b[0m \u001b[0max0\u001b[0m\u001b[0;34m.\u001b[0m\u001b[0mplot\u001b[0m\u001b[0;34m(\u001b[0m\u001b[0mx\u001b[0m\u001b[0;34m,\u001b[0m \u001b[0mnp\u001b[0m\u001b[0;34m.\u001b[0m\u001b[0marray\u001b[0m\u001b[0;34m(\u001b[0m\u001b[0mo_set\u001b[0m\u001b[0;34m)\u001b[0m\u001b[0;34m,\u001b[0m \u001b[0mlabel\u001b[0m\u001b[0;34m=\u001b[0m\u001b[0;34m'original'\u001b[0m\u001b[0;34m)\u001b[0m\u001b[0;34m\u001b[0m\u001b[0;34m\u001b[0m\u001b[0m\n",
            "\u001b[0;31mTypeError\u001b[0m: 'AxesSubplot' object is not iterable"
          ]
        },
        {
          "output_type": "display_data",
          "data": {
            "image/png": "[encoded data removed]",
            "text/plain": [
              "<Figure size 432x288 with 1 Axes>"
            ]
          },
          "metadata": {
            "tags": [],
            "needs_background": "light"
          }
        }
      ]
    },
    {
      "cell_type": "markdown",
      "metadata": {
        "id": "IAfUVZwD9Uzz"
      },
      "source": [
        "# Spiking TPAM #"
      ]
    },
    {
      "cell_type": "markdown",
      "metadata": {
        "id": "pPqT1BLe9VwL"
      },
      "source": [
        "## Resonate-and-fire TPAM ##"
      ]
    },
    {
      "cell_type": "code",
      "metadata": {
        "id": "Ytgi1Vzj8vEm"
      },
      "source": [
        "N_vec = 500\n",
        "N_inh_ff = 5\n",
        "N_out = 60\n",
        "\n",
        "pvecs = crvec(N_vec, N_out).T\n",
        "Ks = int(0.05 * N_vec)\n",
        "\n",
        "for d in range(N_out):\n",
        "    ip = np.random.choice(N_vec, size=(N_vec-Ks), replace=False)\n",
        "    pvecs[ip, d] = 0\n",
        "    \n",
        "pmat = np.dot(pvecs, np.conj(pvecs.T)) / Ks\n",
        "\n",
        "np.fill_diagonal(pmat, 0)"
      ],
      "execution_count": null,
      "outputs": []
    },
    {
      "cell_type": "code",
      "metadata": {
        "id": "EeTUavA482Q2"
      },
      "source": [
        "# Neuron parameters\n",
        "C_Sh = 4 * nF # Capacitance\n",
        "L_Sh = 10e-3/1e-9  * henry # Inductance\n",
        "\n",
        "g_l = 30.0 * nS # leak conductance\n",
        "E_l = -60.0 * mV # Resting potential\n",
        "\n",
        "V_t = -58.0 * mV # Threshold\n",
        "\n",
        "\n",
        "eqs_2_h = Equations('''\n",
        "    dVs/dt = (g_l * (E_l - Vs) - 2*pi*Us + I_ext) / C_Sh : volt\n",
        "    dUs/dt = -2*pi*(E_l - Vs) / L_Sh : amp\n",
        "    I_ext : amp\n",
        "    ''')\n",
        "\n",
        "s_h = '''\n",
        "mag_v : 1\n",
        "mag_u : 1\n",
        "'''\n",
        "s_h_on_pre = '''\n",
        "Vs_post += mag_v * mV\n",
        "Us_post += mag_u * nA\n",
        "'''"
      ],
      "execution_count": null,
      "outputs": []
    },
    {
      "cell_type": "code",
      "metadata": {
        "id": "tQPpM7K79cbC"
      },
      "source": [
        "cycle_freq = 1/(np.sqrt(L_Sh * C_Sh))\n",
        "VU_factor = sqrt(C_Sh/L_Sh) * mV/nA\n",
        "\n",
        "print(cycle_freq)"
      ],
      "execution_count": null,
      "outputs": []
    },
    {
      "cell_type": "code",
      "metadata": {
        "id": "qDO96HlD9cp0"
      },
      "source": [
        "nreps = 1\n",
        "\n",
        "target_idx = 22\n",
        "\n",
        "init_vector = pvecs[:, target_idx].copy()\n",
        "\n",
        "init_vector[200:] = 0\n",
        "keep_idx = np.abs(init_vector) > 0.5\n",
        "\n",
        "stt = phase2spikes(init_vector)*second  +0.11*second\n",
        "#spike_indices = np.zeros_like(stt)\n",
        "spike_indices = np.arange(stt.shape[0])\n",
        "\n",
        "#keep_idx = np.random.rand(stt.shape[0]) < 1\n",
        "stt = stt[keep_idx]\n",
        "spike_indices = spike_indices[keep_idx]\n",
        "\n",
        "spike_times = np.tile(stt, (nreps))\n",
        "spike_indices = np.tile(spike_indices, (nreps))\n",
        "\n",
        "for i in range(nreps):\n",
        "    spike_times[(i*N_vec):((i+1)*N_vec)] = spike_times[:N_vec] + i * 200*ms"
      ],
      "execution_count": null,
      "outputs": []
    },
    {
      "cell_type": "code",
      "metadata": {
        "id": "Q_S4kSf99foq"
      },
      "source": [
        "G_pre = SpikeGeneratorGroup(N_vec, spike_indices, spike_times)\n",
        "G_post = NeuronGroup(N_vec, model=eqs_2_h, threshold='Vs>V_t and Us>0*nA',  \n",
        "                     refractory=120*ms, method='euler')\n",
        "\n",
        "G_post.Vs = (E_l + 0.0*mV) * ones(N_vec)\n",
        "G_post.Us = 0.0 * VU_factor * nA * ones(N_vec)\n",
        "G_post.I_ext = 0\n",
        "\n",
        "S_pre_post = Synapses(G_pre, G_post, s_h, on_pre=s_h_on_pre, method='euler')\n",
        "S_recurrent = Synapses(G_post, G_post, s_h, on_pre=s_h_on_pre, method='euler')\n",
        "\n",
        "# Input connections\n",
        "S_pre_post.connect(j='i')\n",
        "S_pre_post.mag_u = -0.1 * VU_factor\n",
        "S_pre_post.mag_v = 3\n",
        "\n",
        "# Recurrent connections\n",
        "syn_thresh = 0.1 / (2*N_vec) ** 0.5\n",
        "synidxs = np.where(np.abs(pmat.T) > syn_thresh)\n",
        "S_recurrent.connect(i=synidxs[0], j=synidxs[1])\n",
        "\n",
        "syn_idxs_f = np.where(np.abs(pmat.T).flatten() > syn_thresh)[0]\n",
        "syn_abs = np.abs(pmat.T).flatten()\n",
        "syn_phase = -1*np.angle(pmat.T).flatten()\n",
        "\n",
        "syn_g = 5.0\n",
        "S_recurrent.mag_v = syn_g * syn_abs[syn_idxs_f] * np.cos(syn_phase[syn_idxs_f])\n",
        "S_recurrent.mag_u = syn_g * syn_abs[syn_idxs_f] * VU_factor * np.sin(syn_phase[syn_idxs_f])\n",
        "\n",
        "# Monitors\n",
        "SpM_post = SpikeMonitor(G_post)\n",
        "StM_post = StateMonitor(G_post, True, record=True)"
      ],
      "execution_count": null,
      "outputs": []
    },
    {
      "cell_type": "code",
      "metadata": {
        "id": "QgDfFLlV9jqM"
      },
      "source": [
        "complex_net = Network()\n",
        "complex_net.add(G_pre)\n",
        "complex_net.add(G_post)\n",
        "\n",
        "complex_net.add(S_pre_post)\n",
        "complex_net.add(S_recurrent)\n",
        "\n",
        "complex_net.add(SpM_post)\n",
        "complex_net.add(StM_post)\n",
        "\n",
        "complex_net.store('init')"
      ],
      "execution_count": null,
      "outputs": []
    },
    {
      "cell_type": "code",
      "metadata": {
        "id": "Otihg17l9rdd"
      },
      "source": [
        "run_time = 5.0 * second\n",
        "#complex_net.restore('init')\n",
        "tst = time.time()\n",
        "complex_net.run(run_time)\n",
        "print(\"elapsed\", time.time() - tst, \"seconds\")"
      ],
      "execution_count": null,
      "outputs": []
    },
    {
      "cell_type": "code",
      "metadata": {
        "id": "SzkxGMBV9vUe"
      },
      "source": [
        "figure(figsize=(3.5,3))\n",
        "\n",
        "spike_trains_post = SpM_post.spike_trains()\n",
        "\n",
        "for i in range(N_vec):\n",
        "    plot(spike_trains_post[i], i * ones(len(spike_trains_post[i])), '|', mew=2)\n",
        "\n",
        "ylim([0, N_vec])\n",
        "xlim([0, 1])\n",
        "\n",
        "xlabel('Time (s)')\n",
        "\n",
        "plt.tight_layout()"
      ],
      "execution_count": null,
      "outputs": []
    },
    {
      "cell_type": "code",
      "metadata": {
        "id": "nCfq_LOy93g-"
      },
      "source": [
        "figure(figsize=(8,3.5))\n",
        "\n",
        "subplot(121)\n",
        "c=0\n",
        "for i in range(N_vec):\n",
        "    plot(spike_trains_post[i], i * ones(len(spike_trains_post[i])), '|', mew=2)\n",
        "    if len(spike_trains_post[i])>2:\n",
        "        c+=1\n",
        "        \n",
        "print(c, '==', Ks)\n",
        "\n",
        "xlim([4,5])\n",
        "ylim([0, N_vec])\n",
        "\n",
        "xlabel('Time (s)')\n",
        "title('Network')\n",
        "\n",
        "\n",
        "target_vector = pvecs[:, target_idx].copy()\n",
        "\n",
        "stt = phase2spikes(target_vector)*second  +0.11*second\n",
        "spike_indices = np.arange(stt.shape[0])\n",
        "\n",
        "keep_idx = np.abs(target_vector) > 0.5\n",
        "stt = stt[keep_idx]\n",
        "spike_indices = spike_indices[keep_idx]\n",
        "\n",
        "nreps = 10\n",
        "spike_times_target = np.tile(stt, (nreps))\n",
        "spike_indices_target = np.tile(spike_indices, (nreps))\n",
        "\n",
        "for i in range(nreps):\n",
        "    spike_times_target[(np.arange(len(stt)) + i * len(stt))] = spike_times_target[:len(stt)] + i * 200*ms\n",
        "\n",
        "    \n",
        "subplot(122)\n",
        "for i in range(N_vec):\n",
        "    sp_times = spike_times_target[spike_indices_target==i]\n",
        "    plot(sp_times, i*np.ones(sp_times.shape) , '|', mew=2)\n",
        "\n",
        "xlabel('Time (s)')\n",
        "xlim([0, 1])\n",
        "ylim([0, N_vec])\n",
        "title('Target')\n",
        "\n",
        "plt.tight_layout()"
      ],
      "execution_count": null,
      "outputs": []
    },
    {
      "cell_type": "code",
      "metadata": {
        "id": "rymYCWMD95Eb"
      },
      "source": [
        "figure(figsize=(3.5,3))\n",
        "\n",
        "N_ex = spike_indices[0]\n",
        "ex=2\n",
        "\n",
        "plot(StM_post.Vs[N_ex]/mV, StM_post.Us[N_ex]/nA, c='cyan', lw=2)\n",
        "plot(StM_post.Vs[ex]/mV, StM_post.Us[ex]/nA, c=[0.3, 0.3, 0.3], lw=2)\n",
        "\n",
        "xl_V = 8*mV\n",
        "xlim([E_l/mV - xl_V/mV, E_l/mV + xl_V/mV])\n",
        "ylim([- xl_V * VU_factor /mV, xl_V * VU_factor/mV])\n",
        "\n",
        "xticks([])\n",
        "yticks([])\n",
        "xlabel('$V$ (mV)')\n",
        "ylabel('$U$ (nA)')\n",
        "\n",
        "plt.tight_layout()"
      ],
      "execution_count": null,
      "outputs": []
    },
    {
      "cell_type": "markdown",
      "metadata": {
        "id": "1R8eKuPw-CW7"
      },
      "source": [
        "## Stochastic Resonate-and-Fire Neurons ##"
      ]
    },
    {
      "cell_type": "code",
      "metadata": {
        "id": "KRjm0sA-9__l"
      },
      "source": [
        "N_vec = 500\n",
        "N_inh_ff = 5\n",
        "N_out = 60\n",
        "\n",
        "pvecs = crvec(N_vec, N_out).T\n",
        "Ks = int(0.05 * N_vec)\n",
        "\n",
        "for d in range(N_out):\n",
        "    ip = np.random.choice(N_vec, size=(N_vec-Ks), replace=False)\n",
        "    pvecs[ip, d] = 0\n",
        "    \n",
        "pmat = np.dot(pvecs, np.conj(pvecs.T)) / Ks\n",
        "\n",
        "np.fill_diagonal(pmat, 0)"
      ],
      "execution_count": null,
      "outputs": []
    },
    {
      "cell_type": "code",
      "metadata": {
        "id": "LnaBpLbo-l3C"
      },
      "source": [
        "# Neuron parameters\n",
        "C_Sh = 4 * nF # Capacitance\n",
        "L_Sh = 10e-3/1e-9  * henry # Inductance\n",
        "\n",
        "g_l = 30.0 * nS # leak conductance\n",
        "E_l = -60.0 * mV # Resting potential\n",
        "\n",
        "V_t = -58.0 * mV # Threshold\n",
        "\n",
        "\n",
        "eqs_2_h = Equations('''\n",
        "    dVs/dt = (g_l * (E_l - Vs) - 2*pi*Us + I_ext) / C_Sh : volt\n",
        "    dUs/dt = -2*pi*(E_l - Vs) / L_Sh : amp\n",
        "    I_ext : amp\n",
        "    ''')\n",
        "\n",
        "s_h = '''\n",
        "mag_v : 1\n",
        "mag_u : 1\n",
        "'''\n",
        "s_h_on_pre = '''\n",
        "Vs_post += mag_v * mV\n",
        "Us_post += mag_u * nA\n",
        "'''"
      ],
      "execution_count": null,
      "outputs": []
    },
    {
      "cell_type": "code",
      "metadata": {
        "id": "BWlUrtZ--qz4"
      },
      "source": [
        "cycle_freq = 1/(np.sqrt(L_Sh * C_Sh))\n",
        "VU_factor = sqrt(C_Sh/L_Sh) * mV/nA\n",
        "\n",
        "print(cycle_freq)"
      ],
      "execution_count": null,
      "outputs": []
    },
    {
      "cell_type": "code",
      "metadata": {
        "id": "aOquxilZ-xym"
      },
      "source": [
        "nreps = 1\n",
        "\n",
        "target_idx = 22\n",
        "\n",
        "init_vector = pvecs[:, target_idx].copy()\n",
        "\n",
        "init_vector[200:] = 0\n",
        "keep_idx = np.abs(init_vector) > 0.5\n",
        "\n",
        "stt = phase2spikes(init_vector)*second  +0.11*second\n",
        "#spike_indices = np.zeros_like(stt)\n",
        "spike_indices = np.arange(stt.shape[0])\n",
        "\n",
        "#keep_idx = np.random.rand(stt.shape[0]) < 1\n",
        "stt = stt[keep_idx]\n",
        "spike_indices = spike_indices[keep_idx]\n",
        "\n",
        "spike_times = np.tile(stt, (nreps))\n",
        "spike_indices = np.tile(spike_indices, (nreps))\n",
        "\n",
        "for i in range(nreps):\n",
        "    spike_times[(i*N_vec):((i+1)*N_vec)] = spike_times[:N_vec] + i * 200*ms"
      ],
      "execution_count": null,
      "outputs": []
    },
    {
      "cell_type": "code",
      "metadata": {
        "id": "guXwrrF8-1DC"
      },
      "source": [
        "G_pre = SpikeGeneratorGroup(N_vec, spike_indices, spike_times)\n",
        "G_post = NeuronGroup(N_vec, model=eqs_2_h, threshold='Vs>V_t and Us>0*nA',  \n",
        "                     refractory=120*ms, method='euler')\n",
        "\n",
        "G_post.Vs = (E_l + 0.0*mV) * ones(N_vec)\n",
        "G_post.Us = 0.0 * VU_factor * nA * ones(N_vec)\n",
        "G_post.I_ext = 0\n",
        "\n",
        "S_pre_post = Synapses(G_pre, G_post, s_h, on_pre=s_h_on_pre, method='euler')\n",
        "S_recurrent = Synapses(G_post, G_post, s_h, on_pre=s_h_on_pre, method='euler')\n",
        "\n",
        "# Input connections\n",
        "S_pre_post.connect(j='i')\n",
        "S_pre_post.mag_u = -0.1 * VU_factor\n",
        "S_pre_post.mag_v = 3\n",
        "\n",
        "# Recurrent connections\n",
        "syn_thresh = 0.1 / (2*N_vec) ** 0.5\n",
        "synidxs = np.where(np.abs(pmat.T) > syn_thresh)\n",
        "S_recurrent.connect(i=synidxs[0], j=synidxs[1])\n",
        "\n",
        "syn_idxs_f = np.where(np.abs(pmat.T).flatten() > syn_thresh)[0]\n",
        "syn_abs = np.abs(pmat.T).flatten()\n",
        "syn_phase = -1*np.angle(pmat.T).flatten()\n",
        "\n",
        "syn_g = 5.0\n",
        "S_recurrent.mag_v = syn_g * syn_abs[syn_idxs_f] * np.cos(syn_phase[syn_idxs_f])\n",
        "S_recurrent.mag_u = syn_g * syn_abs[syn_idxs_f] * VU_factor * np.sin(syn_phase[syn_idxs_f])\n",
        "\n",
        "# Monitors\n",
        "SpM_post = SpikeMonitor(G_post)\n",
        "StM_post = StateMonitor(G_post, True, record=True)"
      ],
      "execution_count": null,
      "outputs": []
    },
    {
      "cell_type": "code",
      "metadata": {
        "id": "RaR50Zzd-3N5"
      },
      "source": [
        "complex_net = Network()\n",
        "complex_net.add(G_pre)\n",
        "complex_net.add(G_post)\n",
        "\n",
        "complex_net.add(S_pre_post)\n",
        "complex_net.add(S_recurrent)\n",
        "\n",
        "complex_net.add(SpM_post)\n",
        "complex_net.add(StM_post)\n",
        "\n",
        "complex_net.store('init')"
      ],
      "execution_count": null,
      "outputs": []
    },
    {
      "cell_type": "code",
      "metadata": {
        "id": "jfT-_9pZ-5WI"
      },
      "source": [
        "run_time = 5.0 * second\n",
        "#complex_net.restore('init')\n",
        "tst = time.time()\n",
        "complex_net.run(run_time)\n",
        "print(\"elapsed\", time.time() - tst, \"seconds\")"
      ],
      "execution_count": null,
      "outputs": []
    },
    {
      "cell_type": "code",
      "metadata": {
        "id": "SSnZ6Sao-7bO"
      },
      "source": [
        "figure(figsize=(3.5,3))\n",
        "\n",
        "spike_trains_post = SpM_post.spike_trains()\n",
        "\n",
        "for i in range(N_vec):\n",
        "    plot(spike_trains_post[i], i * ones(len(spike_trains_post[i])), '|', mew=2)\n",
        "\n",
        "ylim([0, N_vec])\n",
        "xlim([0, 1])\n",
        "\n",
        "xlabel('Time (s)')\n",
        "\n",
        "plt.tight_layout()"
      ],
      "execution_count": null,
      "outputs": []
    },
    {
      "cell_type": "code",
      "metadata": {
        "id": "o5xmz6xG--xA"
      },
      "source": [
        "figure(figsize=(8,3.5))\n",
        "\n",
        "subplot(121)\n",
        "c=0\n",
        "for i in range(N_vec):\n",
        "    plot(spike_trains_post[i], i * ones(len(spike_trains_post[i])), '|', mew=2)\n",
        "    if len(spike_trains_post[i])>2:\n",
        "        c+=1\n",
        "        \n",
        "print(c, '==', Ks)\n",
        "\n",
        "xlim([4,5])\n",
        "ylim([0, N_vec])\n",
        "\n",
        "xlabel('Time (s)')\n",
        "title('Network')\n",
        "\n",
        "\n",
        "target_vector = pvecs[:, target_idx].copy()\n",
        "\n",
        "stt = phase2spikes(target_vector)*second  +0.11*second\n",
        "spike_indices = np.arange(stt.shape[0])\n",
        "\n",
        "keep_idx = np.abs(target_vector) > 0.5\n",
        "stt = stt[keep_idx]\n",
        "spike_indices = spike_indices[keep_idx]\n",
        "\n",
        "nreps = 10\n",
        "spike_times_target = np.tile(stt, (nreps))\n",
        "spike_indices_target = np.tile(spike_indices, (nreps))\n",
        "\n",
        "for i in range(nreps):\n",
        "    spike_times_target[(np.arange(len(stt)) + i * len(stt))] = spike_times_target[:len(stt)] + i * 200*ms\n",
        "\n",
        "    \n",
        "subplot(122)\n",
        "for i in range(N_vec):\n",
        "    sp_times = spike_times_target[spike_indices_target==i]\n",
        "    plot(sp_times, i*np.ones(sp_times.shape) , '|', mew=2)\n",
        "\n",
        "xlabel('Time (s)')\n",
        "xlim([0, 1])\n",
        "ylim([0, N_vec])\n",
        "title('Target')\n",
        "\n",
        "plt.tight_layout()"
      ],
      "execution_count": null,
      "outputs": []
    },
    {
      "cell_type": "code",
      "metadata": {
        "id": "9dQExsCw_A8x"
      },
      "source": [
        "figure(figsize=(3.5,3))\n",
        "\n",
        "N_ex = spike_indices[0]\n",
        "ex=2\n",
        "\n",
        "plot(StM_post.Vs[N_ex]/mV, StM_post.Us[N_ex]/nA, c='cyan', lw=2)\n",
        "plot(StM_post.Vs[ex]/mV, StM_post.Us[ex]/nA, c=[0.3, 0.3, 0.3], lw=2)\n",
        "\n",
        "xl_V = 8*mV\n",
        "xlim([E_l/mV - xl_V/mV, E_l/mV + xl_V/mV])\n",
        "ylim([- xl_V * VU_factor /mV, xl_V * VU_factor/mV])\n",
        "\n",
        "xticks([])\n",
        "yticks([])\n",
        "xlabel('$V$ (mV)')\n",
        "ylabel('$U$ (nA)')\n",
        "\n",
        "plt.tight_layout()"
      ],
      "execution_count": null,
      "outputs": []
    }
  ]
}